{
  "nbformat": 4,
  "nbformat_minor": 0,
  "metadata": {
    "colab": {
      "name": "Day6.ipynb",
      "provenance": [],
      "authorship_tag": "ABX9TyOggFMS70NgTdKawKeda4LC",
      "include_colab_link": true
    },
    "kernelspec": {
      "name": "python3",
      "display_name": "Python 3"
    },
    "language_info": {
      "name": "python"
    }
  },
  "cells": [
    {
      "cell_type": "markdown",
      "metadata": {
        "id": "view-in-github",
        "colab_type": "text"
      },
      "source": [
        "<a href=\"https://colab.research.google.com/github/BrightyJijiAbraham/Practical-AI-Bootcamp/blob/main/Tasks/Brighty%20Jiji%20Abraham/Day6.ipynb\" target=\"_parent\"><img src=\"https://colab.research.google.com/assets/colab-badge.svg\" alt=\"Open In Colab\"/></a>"
      ]
    },
    {
      "cell_type": "code",
      "metadata": {
        "id": "eUqVYl4Zpzt8"
      },
      "source": [
        "import tensorflow as tf \n",
        "import matplotlib.pyplot as plt\n",
        "from tensorflow.keras.applications import ResNet50\n",
        "from tensorflow.keras.applications.vgg16 import VGG16\n",
        "from tensorflow.keras.applications import InceptionV3\n",
        "from keras.layers import GlobalAveragePooling2D, Dense\n",
        "from keras.layers import BatchNormalization, Dropout\n",
        "from keras.models import Model"
      ],
      "execution_count": null,
      "outputs": []
    },
    {
      "cell_type": "code",
      "metadata": {
        "id": "t0suIg4Vqbm_"
      },
      "source": [
        "from tensorflow.keras.datasets import cifar10\n",
        "# setting class names\n",
        "class_names=['airplane','automobile','bird','cat','deer','dog','frog','horse','ship','truck']\n",
        "#loading the dataset\n",
        "(x_train,y_train),(x_test,y_test)=cifar10.load_data()"
      ],
      "execution_count": null,
      "outputs": []
    },
    {
      "cell_type": "code",
      "metadata": {
        "id": "9xiLKIF6roPm"
      },
      "source": [
        "# Normalizing Images\n",
        "x_train=x_train/255.0\n",
        "x_train.shape\n",
        "x_test=x_test/255.0\n",
        "x_test.shape"
      ],
      "execution_count": null,
      "outputs": []
    },
    {
      "cell_type": "code",
      "metadata": {
        "id": "yz13ukkFrzuO"
      },
      "source": [
        "resnet = ResNet50(weights ='imagenet', include_top = False, \n",
        "               input_shape =(32,32, 3)) \n",
        "resnet.trainable = False"
      ],
      "execution_count": null,
      "outputs": []
    },
    {
      "cell_type": "code",
      "metadata": {
        "id": "Pw4pCqpHr1xV"
      },
      "source": [
        "x= resnet.output\n",
        "\n",
        "x = GlobalAveragePooling2D()(x)\n",
        "\n",
        "x = BatchNormalization()(x)\n",
        "\n",
        "x = Dropout(0.5)(x) \n",
        "x = Dense(512, activation ='relu')(x)\n",
        "x = BatchNormalization()(x)\n",
        "x = Dropout(0.5)(x)\n",
        "\n",
        "\n",
        "x = Dense(10, activation ='softmax')(x)\n",
        "\n",
        "model = Model(res.input, x)\n",
        "model.compile(optimizer ='Adam', \n",
        "              loss =\"sparse_categorical_crossentropy\", \n",
        "              metrics =[\"sparse_categorical_accuracy\"]) \n",
        "model.summary() \n",
        "model.fit(x_train,y_train, epochs = 5, validation_data = (x_test,y_test))\n",
        "test_loss, test_accuracy = model.evaluate(x_test, y_test)\n",
        "print(\"Test accuracy: {}\".format(test_accuracy))"
      ],
      "execution_count": null,
      "outputs": []
    },
    {
      "cell_type": "code",
      "metadata": {
        "id": "SP9KyZgLsLwH"
      },
      "source": [
        "vgg16 = VGG16(weights=\"imagenet\", include_top=False, input_shape=(32,32, 3))\n",
        "vgg16.trainable = False"
      ],
      "execution_count": null,
      "outputs": []
    },
    {
      "cell_type": "code",
      "metadata": {
        "id": "PhpDrjNasOyd"
      },
      "source": [
        "x = vgg16.output\n",
        "\n",
        "x = GlobalAveragePooling2D()(x)\n",
        "\n",
        "x = BatchNormalization()(x)\n",
        "\n",
        "x = Dropout(0.5)(x) \n",
        "x = Dense(512, activation ='relu')(x)\n",
        "x = BatchNormalization()(x)\n",
        "x = Dropout(0.5)(x)\n",
        "\n",
        "\n",
        "x = Dense(10, activation ='softmax')(x)\n",
        "\n",
        "model = Model(vgg16.input, x)\n",
        "model.compile(optimizer ='Adam', \n",
        "              loss =\"sparse_categorical_crossentropy\", \n",
        "              metrics =[\"sparse_categorical_accuracy\"]) \n",
        "model.summary() \n",
        "model.fit(x_train,y_train, epochs = 5, validation_data = (x_test,y_test))\n",
        "test_loss, test_accuracy = model.evaluate(x_test, y_test)\n",
        "print(\"Test accuracy: {}\".format(test_accuracy))"
      ],
      "execution_count": null,
      "outputs": []
    },
    {
      "cell_type": "code",
      "metadata": {
        "id": "9G4aulN-sUbc"
      },
      "source": [
        "intv3 = InceptionV3(weights ='imagenet', include_top = False, \n",
        "               input_shape =(32,32, 3)) \n",
        "intv3.trainable = False"
      ],
      "execution_count": null,
      "outputs": []
    },
    {
      "cell_type": "code",
      "metadata": {
        "id": "VY2K2FYIsX21"
      },
      "source": [
        "x = intv3.output\n",
        "\n",
        "x = GlobalAveragePooling2D()(x)\n",
        "\n",
        "x = BatchNormalization()(x)\n",
        "\n",
        "x = Dropout(0.5)(x) \n",
        "x = Dense(512, activation ='relu')(x)\n",
        "x = BatchNormalization()(x)\n",
        "x = Dropout(0.5)(x)\n",
        "\n",
        "\n",
        "x = Dense(10, activation ='softmax')(x)\n",
        "\n",
        "model = Model(enet.input, x)\n",
        "model.compile(optimizer ='Adam', \n",
        "              loss =\"sparse_categorical_crossentropy\", \n",
        "              metrics =[\"sparse_categorical_accuracy\"]) \n",
        "model.summary() \n",
        "model.fit(x_train,y_train, epochs = 5, validation_data = (x_test,y_test))\n",
        "test_loss, test_accuracy = model.evaluate(x_test, y_test)\n",
        "print(\"Test accuracy: {}\".format(test_accuracy))"
      ],
      "execution_count": null,
      "outputs": []
    }
  ]
}